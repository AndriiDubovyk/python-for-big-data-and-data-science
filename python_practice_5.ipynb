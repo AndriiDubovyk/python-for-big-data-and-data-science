{
  "nbformat": 4,
  "nbformat_minor": 0,
  "metadata": {
    "colab": {
      "provenance": []
    },
    "kernelspec": {
      "name": "python3",
      "display_name": "Python 3"
    },
    "language_info": {
      "name": "python"
    }
  },
  "cells": [
    {
      "cell_type": "markdown",
      "source": [
        "# I. OOP"
      ],
      "metadata": {
        "id": "5qV_sehzFCTp"
      }
    },
    {
      "cell_type": "markdown",
      "source": [
        "1. (6б). Створіть клас Animal, додайте три атрибути, один з яких має значення за замовчуванням та два методи на свій розсуд."
      ],
      "metadata": {
        "id": "tx_U_hOALyfg"
      }
    },
    {
      "cell_type": "code",
      "source": [
        "class Animal:\n",
        "    def __init__(self, species, sound, age=0):\n",
        "        self.species = species\n",
        "        self.sound = sound\n",
        "        self.age = age\n",
        "\n",
        "    def make_sound(self):\n",
        "        if self.sound:\n",
        "            print(f\"The {self.species} says {self.sound}.\")\n",
        "        else:\n",
        "            print(f\"The {self.species} makes a sound.\")\n",
        "\n",
        "    def grow(self, years=1):\n",
        "        self.age += years\n",
        "        print(f\"The {self.species} is now {self.age} years old.\")\n"
      ],
      "metadata": {
        "id": "-Vf895KaL88N"
      },
      "execution_count": 35,
      "outputs": []
    },
    {
      "cell_type": "markdown",
      "source": [
        "2. (2б). Створіть два обʼєкти цього класу, де один з обʼєктів створюється із дефолтним значенням атрибуту. На одному обʼєкті отримайте значення його атрибуту, а на іншому викличте один з його методів."
      ],
      "metadata": {
        "id": "X_UlOMB0L93w"
      }
    },
    {
      "cell_type": "code",
      "source": [
        "animal1 = Animal(\"Dog\", \"Bark\")\n",
        "animal2 = Animal(\"Cat\", \"Meow\", 2)\n",
        "\n",
        "print(f\"The species of the default animal1 is: {animal1.species}\")\n",
        "animal2.make_sound()"
      ],
      "metadata": {
        "id": "7gBu0ESOMCpG",
        "colab": {
          "base_uri": "https://localhost:8080/"
        },
        "outputId": "bf32960c-64a8-4c5a-8760-55d40aa54c14"
      },
      "execution_count": 2,
      "outputs": [
        {
          "output_type": "stream",
          "name": "stdout",
          "text": [
            "The species of the default animal1 is: Dog\n",
            "The Cat says Meow.\n"
          ]
        }
      ]
    },
    {
      "cell_type": "markdown",
      "source": [
        "3. (5б). Створіть клас, де атрибути мають різні рівні доступу. Спробуйте отримати їхні значення та опишіть результати."
      ],
      "metadata": {
        "id": "HoqSCZt1MHn5"
      }
    },
    {
      "cell_type": "code",
      "source": [
        "class MyClass:\n",
        "    def __init__(self):\n",
        "        self.public_attribute = \"This is a public attribute.\"\n",
        "        self._protected_attribute = \"This is a protected attribute.\"\n",
        "        self.__private_attribute = \"This is a private attribute.\"\n",
        "\n",
        "    def get_private_attribute(self):\n",
        "        # Method to access private attribute\n",
        "        return self.__private_attribute\n",
        "\n",
        "\n",
        "obj = MyClass()\n",
        "\n",
        "# Accessing attribute values\n",
        "print(\"Public attribute:\", obj.public_attribute)\n",
        "print(\"Protected attribute:\", obj._protected_attribute)\n",
        "# Attempting to access private attribute directly will result in an AttributeError\n",
        "# print(\"Private attribute:\", obj.__private_attribute)"
      ],
      "metadata": {
        "id": "r9b3vJxBMSPV",
        "colab": {
          "base_uri": "https://localhost:8080/"
        },
        "outputId": "edb7003e-ffbb-48bb-cff7-f6296b82717e"
      },
      "execution_count": 7,
      "outputs": [
        {
          "output_type": "stream",
          "name": "stdout",
          "text": [
            "Public attribute: This is a public attribute.\n",
            "Protected attribute: This is a protected attribute.\n"
          ]
        }
      ]
    },
    {
      "cell_type": "markdown",
      "source": [
        "4. (7б). Як ви розумієте термін self? Для чого використовується метод __init __?"
      ],
      "metadata": {
        "id": "5op2m2vgMSkZ"
      }
    },
    {
      "cell_type": "markdown",
      "source": [
        "self використовується для посилання на поточний об'єкт класу.\n",
        "__init__ використовується для ініціалізації об'єкта класу, цей метод автоматично викликається при створенні нового екземпляру класу."
      ],
      "metadata": {
        "id": "DyiPqNRvMasx"
      }
    },
    {
      "cell_type": "markdown",
      "source": [
        "5. (9б). Створіть клас Фігура без атрибутів, з методом get_area для отримання площі фігури, що повертає 0 та __add __, який приймає self та other в якості аргументів, а повертає суму площин фігур self та other."
      ],
      "metadata": {
        "id": "-6X8EGfjMd2y"
      }
    },
    {
      "cell_type": "code",
      "source": [
        "\n",
        "class Figure:\n",
        "    def get_area(self):\n",
        "        return 0\n",
        "\n",
        "    def __add__(self, other):\n",
        "        return self.get_area() + other.get_area()\n"
      ],
      "metadata": {
        "id": "4rvO_wYUMaEr"
      },
      "execution_count": 8,
      "outputs": []
    },
    {
      "cell_type": "markdown",
      "source": [
        "6. (11б). Створіть 2 дочірніх класи від Фігури: Трикутник та Коло, які мають атрибути, необхідні для розрахунку площин. Визначте метод get_area в кожному з них так, щоби вони розраховували площу в залежності від формули для кожного типу фігури. Створіть обʼєкт класу Трикутник та обʼєкт класу Коло. Виконайте операцію суми за допомогою оператора + між ними."
      ],
      "metadata": {
        "id": "SFcKnnv5Mo_z"
      }
    },
    {
      "cell_type": "code",
      "source": [
        "import math\n",
        "\n",
        "class Figure:\n",
        "    def get_area(self):\n",
        "        return 0\n",
        "\n",
        "class Triangle(Figure):\n",
        "    def __init__(self, base, height):\n",
        "        self.base = base\n",
        "        self.height = height\n",
        "\n",
        "    def get_area(self):\n",
        "        return 0.5 * self.base * self.height\n",
        "\n",
        "class Circle(Figure):\n",
        "    def __init__(self, radius):\n",
        "        self.radius = radius\n",
        "\n",
        "    def get_area(self):\n",
        "        return math.pi * self.radius ** 2\n",
        "\n",
        "\n",
        "triangle = Triangle(base=5, height=8)\n",
        "circle = Circle(radius=3)\n",
        "\n",
        "# Example\n",
        "print(f\"Total area of triangle(base={triangle.base}, height={triangle.height}): {triangle.get_area()}\")\n",
        "print(f\"Total area of circle(radius={circle.radius}): {circle.get_area()}\")\n",
        "total_area = triangle.get_area() + circle.get_area()\n",
        "print(f\"Sum of total area of circle(radius={circle.radius}) and triangle(base={triangle.base}, height={triangle.height}):\", total_area)"
      ],
      "metadata": {
        "id": "H3GVNr69Muf3",
        "colab": {
          "base_uri": "https://localhost:8080/"
        },
        "outputId": "cdb3f0b5-0dfe-4c36-8d80-31a3806309f7"
      },
      "execution_count": 12,
      "outputs": [
        {
          "output_type": "stream",
          "name": "stdout",
          "text": [
            "Total area of triangle(base=5, height=8): 20.0\n",
            "Total area of circle(radius=3): 28.274333882308138\n",
            "Sum of total area of circle(radius=3) and triangle(base=5, height=8): 48.27433388230814\n"
          ]
        }
      ]
    },
    {
      "cell_type": "markdown",
      "source": [
        "7. (3б). Продемонструйте різницю між isinstance та issubclass."
      ],
      "metadata": {
        "id": "HCvR206YMvLK"
      }
    },
    {
      "cell_type": "code",
      "source": [
        "triangle = Triangle(base=5, height=8)\n",
        "circle = Circle(radius=3)\n",
        "\n",
        "# Demonstrating isinstance()\n",
        "# This function checks if the given object is an instance of the specified class or any of its subclasses\n",
        "print(\"Is triangle an instance of Triangle?\", isinstance(triangle, Triangle))  # Output: True\n",
        "print(\"Is circle an instance of Circle?\", isinstance(circle, Circle))  # Output: True\n",
        "print(\"Is triangle an instance of Figure?\", isinstance(triangle, Figure))  # Output: True\n",
        "print(\"Is circle an instance of Figure?\", isinstance(circle, Figure))  # Output: True\n",
        "\n",
        "# Demonstrating issubclass()\n",
        "# This function checks if the given subclass is indeed a subclass of the specified superclass\n",
        "print(\"Is Triangle a subclass of Figure?\", issubclass(Triangle, Figure))  # Output: True\n",
        "print(\"Is Circle a subclass of Figure?\", issubclass(Circle, Figure))  # Output: True\n",
        "print(\"Is Figure a subclass of Triangle?\", issubclass(Figure, Triangle))  # Output: False\n",
        "print(\"Is Figure a subclass of Circle?\", issubclass(Figure, Circle))  # Output: False"
      ],
      "metadata": {
        "id": "L_V1bBvDM0GN",
        "colab": {
          "base_uri": "https://localhost:8080/"
        },
        "outputId": "42a27c15-973e-4aee-f131-1ee5733fd254"
      },
      "execution_count": 14,
      "outputs": [
        {
          "output_type": "stream",
          "name": "stdout",
          "text": [
            "Is triangle an instance of Triangle? True\n",
            "Is circle an instance of Circle? True\n",
            "Is triangle an instance of Figure? True\n",
            "Is circle an instance of Figure? True\n",
            "Is Triangle a subclass of Figure? True\n",
            "Is Circle a subclass of Figure? True\n",
            "Is Figure a subclass of Triangle? False\n",
            "Is Figure a subclass of Circle? False\n"
          ]
        }
      ]
    },
    {
      "cell_type": "markdown",
      "source": [
        "8. (13б). Створіть клас BankAccount з приватними атрибутами balance та account_number. Реалізуйте методи поповнення та зняття коштів, забезпечивши належну інкапсуляцію. Підказка: використовуйте декоратори property та setter."
      ],
      "metadata": {
        "id": "jjsaBZ-iM0Qq"
      }
    },
    {
      "cell_type": "code",
      "source": [
        "class BankAccount:\n",
        "    def __init__(self, account_number, initial_balance=0):\n",
        "        self._account_number = account_number\n",
        "        self._balance = initial_balance\n",
        "\n",
        "    @property\n",
        "    def balance(self):\n",
        "        return self._balance\n",
        "\n",
        "    @property\n",
        "    def account_number(self):\n",
        "        return self._account_number\n",
        "\n",
        "    @balance.setter\n",
        "    def balance(self, amount):\n",
        "        if amount >= 0:\n",
        "            self._balance = amount\n",
        "        else:\n",
        "            print(\"Amount cannot be negative.\")\n",
        "\n",
        "    def deposit(self, amount):\n",
        "        if amount > 0:\n",
        "            self.balance += amount\n",
        "            print(f\"Deposited {amount} into account {self.account_number}.\")\n",
        "        else:\n",
        "            print(\"Deposit amount should be positive.\")\n",
        "\n",
        "    def withdraw(self, amount):\n",
        "        if 0 < amount <= self.balance:\n",
        "            self.balance -= amount\n",
        "            print(f\"Withdrew {amount} from account {self.account_number}.\")\n",
        "        else:\n",
        "            print(\"Insufficient funds or invalid amount.\")\n",
        "\n",
        "# Example usage:\n",
        "account = BankAccount(\"1234567890\", 1000)\n",
        "print(\"Created account with number:\", account.account_number)\n",
        "print(\"Initial balance:\", account.balance)\n",
        "account.deposit(500)\n",
        "print(\"Updated balance after deposit:\", account.balance)\n",
        "account.withdraw(200)\n",
        "print(\"Updated balance after withdrawal:\", account.balance)\n"
      ],
      "metadata": {
        "id": "xCvZ7lh8M7YA",
        "colab": {
          "base_uri": "https://localhost:8080/"
        },
        "outputId": "0b125f58-1f7a-4955-8228-0eb5d6b6fa43"
      },
      "execution_count": 16,
      "outputs": [
        {
          "output_type": "stream",
          "name": "stdout",
          "text": [
            "Created account with number: 1234567890\n",
            "Initial balance: 1000\n",
            "Deposited 500 into account 1234567890.\n",
            "Updated balance after deposit: 1500\n",
            "Withdrew 200 from account 1234567890.\n",
            "Updated balance after withdrawal: 1300\n"
          ]
        }
      ]
    },
    {
      "cell_type": "markdown",
      "source": [
        "9. (11б). Створіть клас Library, який містить список об'єктів типу Book. Реалізуйте методи для додавання книги, видалення книги та відображення списку книг."
      ],
      "metadata": {
        "id": "tIzL2SJTM8ft"
      }
    },
    {
      "cell_type": "code",
      "source": [
        "class Library:\n",
        "    def __init__(self):\n",
        "        self.books = []\n",
        "\n",
        "    def add_book(self, book):\n",
        "        self.books.append(book)\n",
        "\n",
        "    def remove_book(self, book):\n",
        "        self.books.remove(book)\n",
        "\n",
        "    def display_books(self):\n",
        "        if self.books:\n",
        "            print(\"List of books in the library:\")\n",
        "            for i, book in enumerate(self.books, 1):\n",
        "                print(f\"{i}. '{book}'\")\n",
        "        else:\n",
        "            print(\"The library is empty.\")\n",
        "\n",
        "# Example usage:\n",
        "library = Library()\n",
        "library.add_book(\"The Hobbit\")\n",
        "library.add_book(\"Harry Potter and the Philosopher's Stone\")\n",
        "library.display_books()\n",
        "\n",
        "library.remove_book(\"The Hobbit\")\n",
        "library.display_books()"
      ],
      "metadata": {
        "id": "HWxfJKLtNAUZ",
        "colab": {
          "base_uri": "https://localhost:8080/"
        },
        "outputId": "36e682f3-a838-43b1-bf0e-cc224907c52f"
      },
      "execution_count": 21,
      "outputs": [
        {
          "output_type": "stream",
          "name": "stdout",
          "text": [
            "List of books in the library:\n",
            "1. 'The Hobbit'\n",
            "2. 'Harry Potter and the Philosopher's Stone'\n",
            "List of books in the library:\n",
            "1. 'Harry Potter and the Philosopher's Stone'\n"
          ]
        }
      ]
    },
    {
      "cell_type": "markdown",
      "source": [
        "10. (13б). Створіть клас Person з атрибутами name та age. Створіть ще один клас Employee з такими атрибутами, як department та salary. Створіть клас Manager, який успадковує обидва класи Person та Employee. Продемонструйте використання множинної спадковості, створивши обʼєкт класу Manager та отримавши mro для цього класу."
      ],
      "metadata": {
        "id": "lmV8pAwwNIqu"
      }
    },
    {
      "cell_type": "code",
      "source": [
        "class Person:\n",
        "    def __init__(self, name, age):\n",
        "        self.name = name\n",
        "        self.age = age\n",
        "\n",
        "class Employee:\n",
        "    def __init__(self, department, salary):\n",
        "        self.department = department\n",
        "        self.salary = salary\n",
        "\n",
        "class Manager(Person, Employee):\n",
        "    def __init__(self, name, age, department, salary):\n",
        "        Person.__init__(self, name, age)\n",
        "        Employee.__init__(self, department, salary)\n",
        "\n",
        "# Example\n",
        "manager = Manager(\"John Doe\", 40, \"Marketing\", 60000)\n",
        "print(\"Method Resolution Order (MRO) for Manager class:\")\n",
        "print(Manager.mro())\n"
      ],
      "metadata": {
        "id": "R49grKlWNPeN",
        "colab": {
          "base_uri": "https://localhost:8080/"
        },
        "outputId": "dad53d26-861d-4b0a-9557-d6be2b0bb801"
      },
      "execution_count": 26,
      "outputs": [
        {
          "output_type": "stream",
          "name": "stdout",
          "text": [
            "Method Resolution Order (MRO) for Manager class:\n",
            "[<class '__main__.Manager'>, <class '__main__.Person'>, <class '__main__.Employee'>, <class 'object'>]\n"
          ]
        }
      ]
    },
    {
      "cell_type": "markdown",
      "source": [
        "# II. Iterator"
      ],
      "metadata": {
        "id": "dIJyUiNBFG8G"
      }
    },
    {
      "cell_type": "markdown",
      "source": [
        "11. (4б). Визначте рядок(str) з 4ма різними за значенням символами. Створіть ітератор на основі цього рядка. Викличте 5 разів функцію next на ітераторі, 4ри перших з них огорніть у ф-цію print()."
      ],
      "metadata": {
        "id": "13vsm0NyKIzL"
      }
    },
    {
      "cell_type": "code",
      "source": [
        "my_string = \"abcd\"\n",
        "my_iterator = iter(my_string)\n",
        "\n",
        "# Call the next function 4 times on the iterator\n",
        "for _ in range(4):\n",
        "    print(next(my_iterator))\n",
        "\n",
        "# Call next function 5th time (without print)\n",
        "next_element = next(my_iterator)\n",
        "print(next_element)"
      ],
      "metadata": {
        "id": "81ntabAkKuz-",
        "colab": {
          "base_uri": "https://localhost:8080/",
          "height": 267
        },
        "outputId": "27030638-3e43-45f9-9813-08e0c610f3da"
      },
      "execution_count": 31,
      "outputs": [
        {
          "output_type": "stream",
          "name": "stdout",
          "text": [
            "a\n",
            "b\n",
            "c\n",
            "d\n"
          ]
        },
        {
          "output_type": "error",
          "ename": "StopIteration",
          "evalue": "",
          "traceback": [
            "\u001b[0;31m---------------------------------------------------------------------------\u001b[0m",
            "\u001b[0;31mStopIteration\u001b[0m                             Traceback (most recent call last)",
            "\u001b[0;32m<ipython-input-31-3d09df808aa3>\u001b[0m in \u001b[0;36m<cell line: 9>\u001b[0;34m()\u001b[0m\n\u001b[1;32m      7\u001b[0m \u001b[0;34m\u001b[0m\u001b[0m\n\u001b[1;32m      8\u001b[0m \u001b[0;31m# Call next function 5th time (without print)\u001b[0m\u001b[0;34m\u001b[0m\u001b[0;34m\u001b[0m\u001b[0m\n\u001b[0;32m----> 9\u001b[0;31m \u001b[0mnext_element\u001b[0m \u001b[0;34m=\u001b[0m \u001b[0mnext\u001b[0m\u001b[0;34m(\u001b[0m\u001b[0mmy_iterator\u001b[0m\u001b[0;34m)\u001b[0m\u001b[0;34m\u001b[0m\u001b[0;34m\u001b[0m\u001b[0m\n\u001b[0m\u001b[1;32m     10\u001b[0m \u001b[0mprint\u001b[0m\u001b[0;34m(\u001b[0m\u001b[0mnext_element\u001b[0m\u001b[0;34m)\u001b[0m\u001b[0;34m\u001b[0m\u001b[0;34m\u001b[0m\u001b[0m\n",
            "\u001b[0;31mStopIteration\u001b[0m: "
          ]
        }
      ]
    },
    {
      "cell_type": "markdown",
      "source": [
        "А що якщо викликати цю ж функцію на рядку?"
      ],
      "metadata": {
        "id": "aekWHGXOLRsO"
      }
    },
    {
      "cell_type": "code",
      "source": [
        "next(\"abcd\")\n",
        "# The next() function is called on an iterator, not on a string. If next() function will be called on a string, there will be an error."
      ],
      "metadata": {
        "id": "mxATGsErLV1i",
        "colab": {
          "base_uri": "https://localhost:8080/",
          "height": 161
        },
        "outputId": "f8d82b0a-c15b-4371-ea9f-f3c93297868a"
      },
      "execution_count": 33,
      "outputs": [
        {
          "output_type": "error",
          "ename": "TypeError",
          "evalue": "'str' object is not an iterator",
          "traceback": [
            "\u001b[0;31m---------------------------------------------------------------------------\u001b[0m",
            "\u001b[0;31mTypeError\u001b[0m                                 Traceback (most recent call last)",
            "\u001b[0;32m<ipython-input-33-0ad29507cbf3>\u001b[0m in \u001b[0;36m<cell line: 1>\u001b[0;34m()\u001b[0m\n\u001b[0;32m----> 1\u001b[0;31m \u001b[0mnext\u001b[0m\u001b[0;34m(\u001b[0m\u001b[0;34m\"abcd\"\u001b[0m\u001b[0;34m)\u001b[0m\u001b[0;34m\u001b[0m\u001b[0;34m\u001b[0m\u001b[0m\n\u001b[0m\u001b[1;32m      2\u001b[0m \u001b[0;31m# The next() function is called on an iterator, not on a string. If next() function will be called on a string, there will be an error.\u001b[0m\u001b[0;34m\u001b[0m\u001b[0;34m\u001b[0m\u001b[0m\n",
            "\u001b[0;31mTypeError\u001b[0m: 'str' object is not an iterator"
          ]
        }
      ]
    },
    {
      "cell_type": "markdown",
      "source": [
        " 12. (5б). Опишіть своїми словами в одному реченні, як ви розумієте різницю між ітерабельними обʼєктами та ітераторами (можна на прикладі)."
      ],
      "metadata": {
        "id": "XwtMEopwJ4pH"
      }
    },
    {
      "cell_type": "markdown",
      "source": [
        "Ітерабельні об'єкти - це об'єкти, які можна перебирати в циклі.\n",
        "Ітератори - це об'єкт, який надає доступ до елементів ітерабельного об'єкта по одному, ведучи облік поточного стану та знаючи як дістати наступне значення."
      ],
      "metadata": {
        "id": "-sHrODc3KFn8"
      }
    },
    {
      "cell_type": "markdown",
      "source": [
        "13. (11б). Створіть клас, що має визначений Iterator Protocol та при кожному виклику next повертає літери англійської абетки, поки вони не вичерпаються."
      ],
      "metadata": {
        "id": "E9qJWmNbK8Gl"
      }
    },
    {
      "cell_type": "code",
      "source": [
        "class AlphabetIterator:\n",
        "    def __init__(self):\n",
        "        self.current_letter = ord('a') - 1\n",
        "\n",
        "    def __iter__(self):\n",
        "        return self\n",
        "\n",
        "    def __next__(self):\n",
        "        self.current_letter += 1\n",
        "        if self.current_letter <= ord('z'):\n",
        "            return chr(self.current_letter)\n",
        "        else:\n",
        "            raise StopIteration\n",
        "\n",
        "# Example\n",
        "alphabet_iter = AlphabetIterator()\n",
        "try:\n",
        "    while True:\n",
        "        print(next(alphabet_iter))\n",
        "except StopIteration:\n",
        "    pass\n"
      ],
      "metadata": {
        "id": "cqx-g_RsLo6I",
        "colab": {
          "base_uri": "https://localhost:8080/"
        },
        "outputId": "3aa4bd33-7d28-4e71-9893-8934e139373e"
      },
      "execution_count": 34,
      "outputs": [
        {
          "output_type": "stream",
          "name": "stdout",
          "text": [
            "a\n",
            "b\n",
            "c\n",
            "d\n",
            "e\n",
            "f\n",
            "g\n",
            "h\n",
            "i\n",
            "j\n",
            "k\n",
            "l\n",
            "m\n",
            "n\n",
            "o\n",
            "p\n",
            "q\n",
            "r\n",
            "s\n",
            "t\n",
            "u\n",
            "v\n",
            "w\n",
            "x\n",
            "y\n",
            "z\n"
          ]
        }
      ]
    },
    {
      "cell_type": "markdown",
      "source": [
        "# Вітаю! Ви велика(ий) молодець, що впоралась(вся). Похваліть себе та побалуйте чимось приємним. Я Вами пишаюся."
      ],
      "metadata": {
        "id": "Z3E3S_s1Fv7-"
      }
    }
  ]
}